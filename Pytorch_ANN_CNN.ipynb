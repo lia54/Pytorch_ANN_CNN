{
 "cells": [
  {
   "cell_type": "markdown",
   "metadata": {},
   "source": [
    "#### Artificial Neural Networks"
   ]
  },
  {
   "cell_type": "markdown",
   "metadata": {},
   "source": [
    "Suppose that we have the following dataset:"
   ]
  },
  {
   "cell_type": "markdown",
   "metadata": {},
   "source": [
    "Here, $X=\\{x^{(1)},x^{(2)}, \\dots,x^{(m)}  \\}$ and $x^{(i)} \\in \\mathbb{R}$ where each sample has two features. Each sample is labeled into two categories with labels $y^{(i)} \\in \\{0,1\\}$. The ANN that we will use here is a simple 3 layer network, with 3 neurons in the input layer, 2 neurons in the hidden layer, and 1 neuron in the output layer. Suppose that we use the mean square error (MSE), as the loss function to optimize the network. Recall that the MSE is\n",
    "\n",
    "$$ \\mathcal{L}(\\hat{y},y)=\\frac{1}{m} \\sum_{i=1}^{m}(\\hat{y}^{(i)} - y^{(i)})^2$$\n",
    "\n",
    "a) For this ANN, suppose that the activation function used is a tanh activation function. What is the gradient descent update for the output layer, layer 3, that is:\n",
    "\n",
    "$$\\frac{\\partial\\mathcal{L}}{\\partial \\mathbf{W}^{[\\ell]}} = \\text{?}$$\n",
    "\n",
    "where $\\ell = 3$."
   ]
  },
  {
   "cell_type": "markdown",
   "metadata": {},
   "source": [
    "$$\\frac{\\partial\\mathcal{L}}{\\partial \\mathbf{W}^{[3]}}=\n",
    "\\frac{\\partial\\mathcal{L}}{\\partial\\mathbf{a}^{[3]}}\\cdot\\frac{\\partial\\mathbf{a}^{[3]}}{\\partial\\mathbf{z}^{[3]}}\\cdot \\frac{\\partial\\mathbf{z^{[3]}}}{\\partial\\mathbf{W}^{[3]}}$$"
   ]
  },
  {
   "cell_type": "markdown",
   "metadata": {},
   "source": [
    "$$\\frac{\\partial\\mathcal{L}}{\\partial\\mathbf{a}^{[3]}} = \\frac{\\partial}{\\partial\\mathbf{a}^{[3]}}\\cdot \\frac{1}{m} \\sum_{i=1}^{m}(\\hat{y}^{(i)} - y^{(i)})^2$$"
   ]
  },
  {
   "cell_type": "markdown",
   "metadata": {},
   "source": [
    "NB# $\\hat{y} = \\mathbf{a}^{[3]}$\n",
    ".Therefore"
   ]
  },
  {
   "cell_type": "markdown",
   "metadata": {},
   "source": [
    "$$\\frac{\\partial\\mathcal{L}}{\\partial\\mathbf{a}^{[3]}} = \\frac{1}{m} \\sum_{i=1}^{m}\\cdot \\frac{\\partial}{\\partial\\mathbf{a}^{[3]}}\\cdot (\\mathbf{a} - y^{(i)})^2$$"
   ]
  },
  {
   "cell_type": "markdown",
   "metadata": {},
   "source": [
    "$$= \\frac{2}{m} \\sum_{i=1}^{m}\\cdot (\\mathbf{a} - y^{(i)})$$"
   ]
  },
  {
   "cell_type": "markdown",
   "metadata": {},
   "source": [
    "NB# $\\mathbf{a}^{[3]} = \\mathbf{g}{(z)^{[3]}}$"
   ]
  },
  {
   "cell_type": "markdown",
   "metadata": {},
   "source": [
    "$\\mathbf{g}{(z)} = tanh = \\left (\\frac{e^{z}-e^{-z}}{e^{z}+e^{-z}}\\right )$"
   ]
  },
  {
   "cell_type": "markdown",
   "metadata": {},
   "source": [
    "$$\\frac{\\partial\\mathbf{a}^{[3]}}{\\partial\\mathbf{z}^{[3]}} = \n",
    "\\frac{\\partial}{\\partial\\mathbf{z}^{[3]}} \\left (\\frac{e^{z}-e^{-z}}{e^{z}+e^{-z}}\\right )$$"
   ]
  },
  {
   "cell_type": "markdown",
   "metadata": {},
   "source": [
    "$$=\\frac{(e^{z}+e^{-z})^2 -(e^{z}-e^{-z})^2}{(e^{z}+e^{-z})^2}$$"
   ]
  },
  {
   "cell_type": "markdown",
   "metadata": {},
   "source": [
    "$$=1-\\frac{(e^{z}-e^{-z})^2}{(e^{z}+e^{-z})^2}$$"
   ]
  },
  {
   "cell_type": "markdown",
   "metadata": {},
   "source": [
    "$$=1-tanh^{2}$$"
   ]
  },
  {
   "cell_type": "markdown",
   "metadata": {},
   "source": [
    "$$=1-\\mathbf{g}(z)^{2}$$"
   ]
  },
  {
   "cell_type": "markdown",
   "metadata": {},
   "source": [
    "$$=1-\\mathbf{a}^{2}$$"
   ]
  },
  {
   "cell_type": "markdown",
   "metadata": {},
   "source": [
    "$$\\frac{\\partial\\mathbf{z^{[3]}}}{\\partial\\mathbf{W}^{[3]}}=\\frac{\\partial}{\\partial\\mathbf{W}^{[3]}}(\\mathbf{W}^{[3]}\\cdot \\mathbf{a}^{[2]}+\\mathbf{b}^{[3]})$$"
   ]
  },
  {
   "cell_type": "markdown",
   "metadata": {},
   "source": [
    "$$=\\mathbf{a}^{[2]^{T}}$$"
   ]
  },
  {
   "cell_type": "raw",
   "metadata": {},
   "source": [
    "Therefore"
   ]
  },
  {
   "cell_type": "markdown",
   "metadata": {},
   "source": [
    "$$\\frac{\\partial\\mathcal{L}}{\\partial \\mathbf{W}^{[3]}}= \\frac{2}{m} \\sum_{i=1}^{m}\\cdot (\\mathbf{a} - y^{(i)}) \\cdot (1-\\mathbf{a}^{2}) \\cdot \\mathbf{a}^{[2]^{T}}$$"
   ]
  },
  {
   "cell_type": "markdown",
   "metadata": {},
   "source": [
    "b) Suppose now that we use the rectified linear unit, or ReLU as the activation function.\n",
    "\n",
    "$$ReLU: f(x) = \\begin{cases} \n",
    "      x & x\\gt 0 \\\\\n",
    "      0 & otherwise \n",
    "   \\end{cases}\n",
    "$$\n",
    "\n",
    "Find the gradient descent update for $\\ell = 3$."
   ]
  },
  {
   "cell_type": "markdown",
   "metadata": {},
   "source": [
    "$$\\frac{\\partial\\mathcal{L}}{\\partial \\mathbf{W}^{[3]}}=\n",
    "\\frac{\\partial\\mathcal{L}}{\\partial\\mathbf{a}^{[3]}}\\cdot\\frac{\\partial\\mathbf{a}^{[3]}}{\\partial\\mathbf{z}^{[3]}}\\cdot \\frac{\\partial\\mathbf{z^{[3]}}}{\\partial\\mathbf{W}^{[3]}}$$"
   ]
  },
  {
   "cell_type": "markdown",
   "metadata": {},
   "source": [
    "$$\\frac{\\partial\\mathcal{L}}{\\partial\\mathbf{a}^{[3]}} = \\frac{1}{m} \\sum_{i=1}^{m}\\cdot \\frac{\\partial}{\\partial\\mathbf{a}^{[3]}}\\cdot (\\mathbf{a} - y^{(i)})^2$$"
   ]
  },
  {
   "cell_type": "markdown",
   "metadata": {},
   "source": [
    "NB# $\\hat{y} = \\mathbf{a}^{[3]}$\n",
    ".Therefore"
   ]
  },
  {
   "cell_type": "markdown",
   "metadata": {},
   "source": [
    "$$\\frac{\\partial\\mathcal{L}}{\\partial\\mathbf{a}^{[3]}} = \\frac{1}{m} \\sum_{i=1}^{m}\\cdot \\frac{\\partial}{\\partial\\mathbf{a}^{[3]}}\\cdot (\\mathbf{a} - y^{(i)})^2$$"
   ]
  },
  {
   "cell_type": "markdown",
   "metadata": {},
   "source": [
    "$$= \\frac{2}{m} \\sum_{i=1}^{m}\\cdot (\\mathbf{a} - y^{(i)})$$"
   ]
  },
  {
   "cell_type": "markdown",
   "metadata": {},
   "source": [
    "The derivative of the ReLU function is shown by the piecewise function below:\n",
    "$$\n",
    "{f}'(x) = \\left\\{\n",
    "        \\begin{array}{ll}\n",
    "            1 & \\quad x > 0 \\\\\n",
    "            0 & \\quad otherwise\n",
    "        \\end{array}\n",
    "    \\right.\n",
    "$$"
   ]
  },
  {
   "cell_type": "markdown",
   "metadata": {},
   "source": [
    "When $x<0$, "
   ]
  },
  {
   "cell_type": "markdown",
   "metadata": {},
   "source": [
    "$$\\frac{\\partial\\mathbf{a}^{[3]}}{\\partial\\mathbf{z}^{[3]}} =0$$"
   ]
  },
  {
   "cell_type": "markdown",
   "metadata": {},
   "source": [
    "Therefore, $$\\frac{\\partial\\mathcal{L}}{\\partial \\mathbf{W}^{[3]}}=0$$"
   ]
  },
  {
   "cell_type": "markdown",
   "metadata": {},
   "source": [
    "When $x>0$, "
   ]
  },
  {
   "cell_type": "markdown",
   "metadata": {},
   "source": [
    "$$\\frac{\\partial\\mathbf{a}^{[3]}}{\\partial\\mathbf{z}^{[3]}} =1$$"
   ]
  },
  {
   "cell_type": "markdown",
   "metadata": {},
   "source": [
    "$$\\frac{\\partial\\mathbf{z^{[3]}}}{\\partial\\mathbf{W}^{[3]}}=\\frac{\\partial}{\\partial\\mathbf{W}^{[3]}}(\\mathbf{W}^{[3]}\\cdot \\mathbf{a}^{[2]}+\\mathbf{b}^{[3]})$$"
   ]
  },
  {
   "cell_type": "markdown",
   "metadata": {},
   "source": [
    "$$=\\mathbf{a}^{[2]^{T}}$$"
   ]
  },
  {
   "cell_type": "markdown",
   "metadata": {},
   "source": [
    "Therefore, $$\\frac{\\partial\\mathcal{L}}{\\partial \\mathbf{W}^{[3]}}=\\frac{2}{m} \\sum_{i=1}^{m}\\cdot (\\mathbf{a} - y^{(i)}) \\cdot \\mathbf{a}^{[2]^{T}}$$"
   ]
  },
  {
   "cell_type": "markdown",
   "metadata": {},
   "source": [
    "#### Using PyTorch\n",
    "\n",
    "Implement a neural network in pytorch to classify the dataset from problem 1. Please be sure to show your training progress, as well as the decision boundary as part of your solution. Select the model architecture, activation functions, and loss functions that lead to a classifier with at least 90% accuracy."
   ]
  },
  {
   "cell_type": "code",
   "execution_count": 2,
   "metadata": {},
   "outputs": [],
   "source": [
    "import torch\n",
    "import torch.nn as nn\n",
    "import torch.nn.functional as F\n",
    "import torch.optim as optim\n",
    "import torchvision\n",
    "import torchvision.transforms as transforms\n",
    "import torchvision.datasets as datasets\n",
    "from IPython.core.debugger import set_trace\n",
    "from torch.autograd import Variable"
   ]
  },
  {
   "cell_type": "code",
   "execution_count": 3,
   "metadata": {},
   "outputs": [
    {
     "data": {
      "text/plain": [
       "(-1.6930476519295277,\n",
       " 2.689683884193551,\n",
       " -1.1215331457570479,\n",
       " 1.6446470913859756)"
      ]
     },
     "execution_count": 3,
     "metadata": {},
     "output_type": "execute_result"
    },
    {
     "data": {
      "image/png": "[encoded data removed]",
      "text/plain": [
       "<Figure size 720x576 with 1 Axes>"
      ]
     },
     "metadata": {
      "needs_background": "light"
     },
     "output_type": "display_data"
    }
   ],
   "source": [
    "%matplotlib widget\n",
    "%matplotlib inline\n",
    "import numpy as np\n",
    "from sklearn.datasets import make_circles, make_moons\n",
    "import matplotlib.pyplot as plt\n",
    "import matplotlib\n",
    "\n",
    "matplotlib.rcParams['figure.figsize'] = (10.0, 8.0)\n",
    "\n",
    "X, y = make_moons(500, noise=0.2, random_state=42)\n",
    "plt.scatter(X[:,0][y==1], X[:,1][y==1], s=40, marker='x',c='red')\n",
    "plt.scatter(X[:,0][y==0], X[:,1][y==0], s=40, marker='o',c='blue')\n",
    "plt.axis('equal')"
   ]
  },
  {
   "cell_type": "code",
   "execution_count": 4,
   "metadata": {},
   "outputs": [
    {
     "name": "stdout",
     "output_type": "stream",
     "text": [
      "(400, 2)\n",
      "(100, 2)\n"
     ]
    }
   ],
   "source": [
    "trainData_X, trainData_y = X[:400], y[:400]\n",
    "train_set = list(zip(trainData_X, trainData_y))\n",
    "print(trainData_X.shape)\n",
    "\n",
    "testData_X, testData_y = X[400:], y[400:]\n",
    "test_set = list(zip(testData_X,testData_y))\n",
    "print(testData_X.shape)\n",
    "\n",
    "batch_size = 4\n",
    "\n",
    "train_loader = torch.utils.data.DataLoader(dataset=train_set,\n",
    "                                         batch_size=batch_size,\n",
    "                                         shuffle=True)\n",
    "\n",
    "test_loader = torch.utils.data.DataLoader(dataset=test_set,\n",
    "                                         batch_size=batch_size,\n",
    "                                         shuffle=False)\n"
   ]
  },
  {
   "cell_type": "code",
   "execution_count": 5,
   "metadata": {},
   "outputs": [],
   "source": [
    "class MLP(nn.Module):\n",
    "    def __init__(self):\n",
    "        super(MLP, self).__init__()\n",
    "        self.fc1 = nn.Linear(2, 500)\n",
    "        self.fc2 = nn.Linear(500, 256)\n",
    "        self.fc3 = nn.Linear(256, 2)\n",
    "        \n",
    "    def forward(self, x):\n",
    "        x = x.view(-1, 2)\n",
    "        x1 = F.relu(self.fc1(x))\n",
    "        x2 = F.relu(self.fc2(x1))\n",
    "        x3 = self.fc3(x2)\n",
    "        return F.log_softmax(x3,1)\n",
    "    \n",
    "    def name(self):\n",
    "        return \"MLP\""
   ]
  },
  {
   "cell_type": "code",
   "execution_count": 9,
   "metadata": {},
   "outputs": [
    {
     "name": "stdout",
     "output_type": "stream",
     "text": [
      "==>>> epoch: 0, batch index: 100, train loss: 0.305547, acc: 0.815\n",
      "==>>> epoch: 0, batch index: 25, test loss: 0.297435, acc: 0.870\n",
      "==>>> epoch: 1, batch index: 100, train loss: 0.308500, acc: 0.843\n",
      "==>>> epoch: 1, batch index: 25, test loss: 0.253822, acc: 0.850\n",
      "==>>> epoch: 2, batch index: 100, train loss: 0.228371, acc: 0.860\n",
      "==>>> epoch: 2, batch index: 25, test loss: 0.275269, acc: 0.880\n",
      "==>>> epoch: 3, batch index: 100, train loss: 0.203941, acc: 0.877\n",
      "==>>> epoch: 3, batch index: 25, test loss: 0.233036, acc: 0.910\n",
      "==>>> epoch: 4, batch index: 100, train loss: 0.221014, acc: 0.885\n",
      "==>>> epoch: 4, batch index: 25, test loss: 0.231219, acc: 0.910\n",
      "==>>> epoch: 5, batch index: 100, train loss: 0.270651, acc: 0.887\n",
      "==>>> epoch: 5, batch index: 25, test loss: 0.210808, acc: 0.910\n",
      "==>>> epoch: 6, batch index: 100, train loss: 0.144112, acc: 0.902\n",
      "==>>> epoch: 6, batch index: 25, test loss: 0.199088, acc: 0.920\n",
      "==>>> epoch: 7, batch index: 100, train loss: 0.152905, acc: 0.917\n",
      "==>>> epoch: 7, batch index: 25, test loss: 0.203000, acc: 0.910\n",
      "==>>> epoch: 8, batch index: 100, train loss: 0.236496, acc: 0.920\n",
      "==>>> epoch: 8, batch index: 25, test loss: 0.190648, acc: 0.910\n",
      "==>>> epoch: 9, batch index: 100, train loss: 0.144831, acc: 0.930\n",
      "==>>> epoch: 9, batch index: 25, test loss: 0.195296, acc: 0.900\n",
      "==>>> epoch: 10, batch index: 100, train loss: 0.119673, acc: 0.943\n",
      "==>>> epoch: 10, batch index: 25, test loss: 0.174819, acc: 0.920\n",
      "==>>> epoch: 11, batch index: 100, train loss: 0.202043, acc: 0.938\n",
      "==>>> epoch: 11, batch index: 25, test loss: 0.168749, acc: 0.940\n",
      "==>>> epoch: 12, batch index: 100, train loss: 0.110711, acc: 0.938\n",
      "==>>> epoch: 12, batch index: 25, test loss: 0.159564, acc: 0.940\n",
      "==>>> epoch: 13, batch index: 100, train loss: 0.144830, acc: 0.938\n",
      "==>>> epoch: 13, batch index: 25, test loss: 0.155400, acc: 0.940\n",
      "==>>> epoch: 14, batch index: 100, train loss: 0.113901, acc: 0.958\n",
      "==>>> epoch: 14, batch index: 25, test loss: 0.149865, acc: 0.960\n",
      "==>>> epoch: 15, batch index: 100, train loss: 0.115261, acc: 0.955\n",
      "==>>> epoch: 15, batch index: 25, test loss: 0.137356, acc: 0.950\n",
      "==>>> epoch: 16, batch index: 100, train loss: 0.124236, acc: 0.963\n",
      "==>>> epoch: 16, batch index: 25, test loss: 0.138571, acc: 0.940\n",
      "==>>> epoch: 17, batch index: 100, train loss: 0.144691, acc: 0.960\n",
      "==>>> epoch: 17, batch index: 25, test loss: 0.137410, acc: 0.950\n",
      "==>>> epoch: 18, batch index: 100, train loss: 0.074763, acc: 0.965\n",
      "==>>> epoch: 18, batch index: 25, test loss: 0.130639, acc: 0.960\n",
      "==>>> epoch: 19, batch index: 100, train loss: 0.087641, acc: 0.963\n",
      "==>>> epoch: 19, batch index: 25, test loss: 0.121510, acc: 0.970\n"
     ]
    }
   ],
   "source": [
    "model = MLP()\n",
    "\n",
    "optimizer = optim.SGD(model.parameters(), lr=0.01)\n",
    "\n",
    "criterion = nn.CrossEntropyLoss()\n",
    "\n",
    "for epoch in range(20):\n",
    "    correct_cnt, ave_loss = 0, 0\n",
    "    total_cnt = 0\n",
    "    for batch_idx, (x, target) in enumerate(train_loader):\n",
    "        optimizer.zero_grad()\n",
    "        x = x.float()\n",
    "        out = model(x)\n",
    "        loss = criterion(out, target)\n",
    "        _, pred_label = torch.max(out.data, 1)\n",
    "        total_cnt += x.shape[0]\n",
    "        correct_cnt+= (pred_label == target).sum().item()\n",
    "        ave_loss = ave_loss * 0.9 + loss.item() * 0.1\n",
    "        loss.backward()\n",
    "        optimizer.step()\n",
    "        if (batch_idx+1) % 100 == 0 or (batch_idx+1) == len(train_loader):\n",
    "            print('==>>> epoch: {}, batch index: {}, train loss: {:.6f}, acc: {:.3f}'.format(\n",
    "                epoch, batch_idx+1, ave_loss, correct_cnt*1.0/total_cnt))\n",
    "    # testing\n",
    "    correct_cnt, ave_loss = 0, 0\n",
    "    total_cnt = 0\n",
    "    for batch_idx, (x, target) in enumerate(test_loader):\n",
    "        x = x.float()\n",
    "        out = model(x)\n",
    "        loss = criterion(out, target)\n",
    "        _, pred_label = torch.max(out.data, 1)\n",
    "        total_cnt += x.shape[0]\n",
    "        correct_cnt += (pred_label == target).sum().item()\n",
    "        # smooth average\n",
    "        ave_loss = ave_loss * 0.9 + loss.item() * 0.1\n",
    "        \n",
    "        if(batch_idx+1) % 100 == 0 or (batch_idx+1) == len(test_loader):\n",
    "            print('==>>> epoch: {}, batch index: {}, test loss: {:.6f}, acc: {:.3f}'.format(\n",
    "                epoch, batch_idx+1, ave_loss, correct_cnt * 1.0 / total_cnt))"
   ]
  },
  {
   "cell_type": "code",
   "execution_count": 11,
   "metadata": {},
   "outputs": [
    {
     "data": {
      "text/plain": [
       "(-1.9761269392401806,\n",
       " 2.8238730607598184,\n",
       " -1.4885260706545682,\n",
       " 1.9114739293454313)"
      ]
     },
     "execution_count": 11,
     "metadata": {},
     "output_type": "execute_result"
    },
    {
     "data": {
      "image/png": "[encoded data removed]",
      "text/plain": [
       "<Figure size 720x576 with 1 Axes>"
      ]
     },
     "metadata": {
      "needs_background": "light"
     },
     "output_type": "display_data"
    }
   ],
   "source": [
    "# show the decision boundary\n",
    "def plot_des(model, X, labels):\n",
    "    color = {1: \"red\", 0: \"blue\"}\n",
    "    x = X[:,0]\n",
    "    y = X[:,1]\n",
    "    x_min, x_max = x.min() - 0.5, x.max() +0.5\n",
    "    y_min, y_max = y.min() - 0.5, y.max() +0.5\n",
    "    \n",
    "    h=0.2\n",
    "    XX,YY = np.meshgrid(np.arange(x_min,x_max,h),np.arange(y_min,y_max,h))\n",
    "    \n",
    "    grid = np.c_[XX.ravel(),YY.ravel()]\n",
    "    grid_tensor = Variable(torch.Tensor(grid))\n",
    "    predict = torch.max(model(grid_tensor), 1)[1].numpy()\n",
    "    plt.contourf(XX,YY,predict.reshape(XX.shape), cmap=plt.cm.Spectral, alpha=0.8)\n",
    "\n",
    "plot_des(model, X, y)\n",
    "plt.scatter(X[:,0][y==1], X[:,1][y==1], s=40, marker='x',c='red')\n",
    "plt.scatter(X[:,0][y==0], X[:,1][y==0], s=40, marker='o',c='blue')\n",
    "plt.axis('equal')"
   ]
  },
  {
   "cell_type": "markdown",
   "metadata": {},
   "source": [
    "#### Convolutional Neural Networks\n",
    "\n",
    "a) Modify the code from example set 5 to create a convolutional neural network to classify the notMNIST dataset. You can download the dataset [here](https://www.kaggle.com/lubaroli/notmnist). Please be sure to include some type of validation/testing as part of your solution, i.e. train/test split or cross-validation."
   ]
  },
  {
   "cell_type": "code",
   "execution_count": 5,
   "metadata": {},
   "outputs": [],
   "source": [
    "import numpy as np\n",
    "import torch\n",
    "import torch.nn as nn\n",
    "import torch.nn.functional as F\n",
    "import torch.optim as optim\n",
    "import torchvision\n",
    "import torchvision.transforms as transforms\n",
    "import torchvision.datasets as datasets\n",
    "from IPython.core.debugger import set_trace\n",
    "import os\n",
    "import imageio\n",
    "from torch.utils.data import DataLoader"
   ]
  },
  {
   "cell_type": "code",
   "execution_count": 6,
   "metadata": {},
   "outputs": [
    {
     "name": "stdout",
     "output_type": "stream",
     "text": [
      "Error\n",
      "Train Set images loaded!\n",
      "Error\n",
      "Test Set images loaded!\n",
      "COMPLETED ALL LOADING!\n"
     ]
    }
   ],
   "source": [
    "def import_images(root):\n",
    "    \n",
    "    # Directories and storage\n",
    "    sub_dirs = os.listdir(root)\n",
    "    labels = []\n",
    "    images = []\n",
    "    \n",
    "    # Grab each image in each sub directory\n",
    "    for _dir in sub_dirs:\n",
    "        path = os.path.join(root, _dir)\n",
    "        for _img in os.listdir(path):\n",
    "            img_path = os.path.join(path, _img)\n",
    "            try:\n",
    "                labels.append(ord(_dir) - 65)\n",
    "                i = imageio.imread(img_path, 'png')\n",
    "                i = i.reshape(1, 28, 28) / 16\n",
    "                i_tensor = transforms.ToTensor()(i).view(1,28,28).float()\n",
    "                images.append(np.array(i_tensor))\n",
    "            except:\n",
    "                print (\"Error\")\n",
    "    \n",
    "    dataset = [(x, y) for x, y in zip(images, labels)]\n",
    "    return dataset\n",
    "            \n",
    "# This is the root directory may need to be chnaged based on the environment            \n",
    "image_folder = './notMNIST_small/'\n",
    "\n",
    "train_set = import_images(os.path.join(image_folder, 'train/'))\n",
    "print (\"Train Set loaded\")\n",
    "test_set = import_images(os.path.join(image_folder, 'test/'))\n",
    "print (\"Test Set loaded\")\n",
    "\n",
    "batch_size = 16\n",
    "train_loader = torch.utils.data.DataLoader(dataset=train_set, \n",
    "                                           batch_size=batch_size,\n",
    "                                           shuffle=True)\n",
    "test_loader = torch.utils.data.DataLoader(dataset=test_set,\n",
    "                                         batch_size=batch_size,\n",
    "                                         shuffle=False)\n",
    "print (\"COMPLETED ALL LOADING!\")"
   ]
  },
  {
   "cell_type": "code",
   "execution_count": 7,
   "metadata": {},
   "outputs": [],
   "source": [
    "class MLP(nn.Module):\n",
    "    def __init__(self):\n",
    "        super(MLP, self).__init__()\n",
    "        self.fc1 = nn.Linear(28*28, 500)\n",
    "        self.fc2 = nn.Linear(500, 256)\n",
    "        self.fc3 = nn.Linear(256, 10)\n",
    "        \n",
    "    def forward(self, x):\n",
    "        x = x.view(-1, 28*28)\n",
    "        x1 = F.relu(self.fc1(x))\n",
    "        x2 = F.relu(self.fc2(x1))\n",
    "        x3 = self.fc3(x2)\n",
    "#         set_trace()\n",
    "        return F.log_softmax(x3,1)\n",
    "    \n",
    "    def name(self):\n",
    "        return \"MLP\""
   ]
  },
  {
   "cell_type": "code",
   "execution_count": 8,
   "metadata": {},
   "outputs": [
    {
     "name": "stdout",
     "output_type": "stream",
     "text": [
      "==>>> epoch: 0, batch index: 100, train loss: 0.753671, acc: 0.695\n",
      "==>>> epoch: 0, batch index: 200, train loss: 0.616361, acc: 0.768\n",
      "==>>> epoch: 0, batch index: 300, train loss: 0.432803, acc: 0.800\n",
      "==>>> epoch: 0, batch index: 400, train loss: 0.436715, acc: 0.819\n",
      "==>>> epoch: 0, batch index: 500, train loss: 0.467042, acc: 0.832\n",
      "==>>> epoch: 0, batch index: 600, train loss: 0.471009, acc: 0.841\n",
      "==>>> epoch: 0, batch index: 700, train loss: 0.402938, acc: 0.848\n",
      "==>>> epoch: 0, batch index: 800, train loss: 0.330929, acc: 0.853\n",
      "==>>> epoch: 0, batch index: 900, train loss: 0.243536, acc: 0.859\n",
      "==>>> epoch: 0, batch index: 1000, train loss: 0.406068, acc: 0.862\n",
      "==>>> epoch: 0, batch index: 1040, train loss: 0.297933, acc: 0.864\n",
      "==>>> epoch: 0, batch index: 100, test loss: 0.447083, acc: 0.916\n",
      "==>>> epoch: 0, batch index: 200, test loss: 0.475266, acc: 0.872\n",
      "==>>> epoch: 0, batch index: 300, test loss: 0.317954, acc: 0.889\n",
      "==>>> epoch: 0, batch index: 400, test loss: 0.567991, acc: 0.880\n",
      "==>>> epoch: 0, batch index: 500, test loss: 0.239127, acc: 0.880\n",
      "==>>> epoch: 0, batch index: 600, test loss: 0.219481, acc: 0.893\n",
      "==>>> epoch: 0, batch index: 700, test loss: 0.438935, acc: 0.886\n",
      "==>>> epoch: 0, batch index: 717, test loss: 0.423833, acc: 0.886\n",
      "==>>> epoch: 1, batch index: 100, train loss: 0.439561, acc: 0.902\n",
      "==>>> epoch: 1, batch index: 200, train loss: 0.355542, acc: 0.907\n",
      "==>>> epoch: 1, batch index: 300, train loss: 0.295833, acc: 0.909\n",
      "==>>> epoch: 1, batch index: 400, train loss: 0.240283, acc: 0.912\n",
      "==>>> epoch: 1, batch index: 500, train loss: 0.358409, acc: 0.912\n",
      "==>>> epoch: 1, batch index: 600, train loss: 0.343671, acc: 0.914\n",
      "==>>> epoch: 1, batch index: 700, train loss: 0.288156, acc: 0.915\n",
      "==>>> epoch: 1, batch index: 800, train loss: 0.193409, acc: 0.917\n",
      "==>>> epoch: 1, batch index: 900, train loss: 0.269324, acc: 0.916\n",
      "==>>> epoch: 1, batch index: 1000, train loss: 0.268153, acc: 0.915\n",
      "==>>> epoch: 1, batch index: 1040, train loss: 0.207528, acc: 0.916\n",
      "==>>> epoch: 1, batch index: 100, test loss: 0.291946, acc: 0.948\n",
      "==>>> epoch: 1, batch index: 200, test loss: 0.279666, acc: 0.922\n",
      "==>>> epoch: 1, batch index: 300, test loss: 0.195879, acc: 0.932\n",
      "==>>> epoch: 1, batch index: 400, test loss: 0.215738, acc: 0.933\n",
      "==>>> epoch: 1, batch index: 500, test loss: 0.236208, acc: 0.935\n",
      "==>>> epoch: 1, batch index: 600, test loss: 0.260880, acc: 0.937\n",
      "==>>> epoch: 1, batch index: 700, test loss: 0.188742, acc: 0.938\n",
      "==>>> epoch: 1, batch index: 717, test loss: 0.222874, acc: 0.938\n",
      "==>>> epoch: 2, batch index: 100, train loss: 0.188990, acc: 0.941\n",
      "==>>> epoch: 2, batch index: 200, train loss: 0.328867, acc: 0.931\n",
      "==>>> epoch: 2, batch index: 300, train loss: 0.197068, acc: 0.931\n",
      "==>>> epoch: 2, batch index: 400, train loss: 0.250705, acc: 0.932\n",
      "==>>> epoch: 2, batch index: 500, train loss: 0.321294, acc: 0.932\n",
      "==>>> epoch: 2, batch index: 600, train loss: 0.261489, acc: 0.933\n",
      "==>>> epoch: 2, batch index: 700, train loss: 0.250546, acc: 0.932\n",
      "==>>> epoch: 2, batch index: 800, train loss: 0.195866, acc: 0.934\n",
      "==>>> epoch: 2, batch index: 900, train loss: 0.245619, acc: 0.933\n",
      "==>>> epoch: 2, batch index: 1000, train loss: 0.227189, acc: 0.932\n",
      "==>>> epoch: 2, batch index: 1040, train loss: 0.519138, acc: 0.933\n",
      "==>>> epoch: 2, batch index: 100, test loss: 1.866285, acc: 0.644\n",
      "==>>> epoch: 2, batch index: 200, test loss: 8.605560, acc: 0.638\n",
      "==>>> epoch: 2, batch index: 300, test loss: 19.334066, acc: 0.431\n",
      "==>>> epoch: 2, batch index: 400, test loss: 0.046599, acc: 0.505\n",
      "==>>> epoch: 2, batch index: 500, test loss: 1.823869, acc: 0.566\n",
      "==>>> epoch: 2, batch index: 600, test loss: 1.558323, acc: 0.572\n",
      "==>>> epoch: 2, batch index: 700, test loss: 7.101504, acc: 0.503\n",
      "==>>> epoch: 2, batch index: 717, test loss: 6.575488, acc: 0.494\n",
      "==>>> epoch: 3, batch index: 100, train loss: 0.233180, acc: 0.922\n",
      "==>>> epoch: 3, batch index: 200, train loss: 0.282553, acc: 0.928\n",
      "==>>> epoch: 3, batch index: 300, train loss: 0.205790, acc: 0.932\n",
      "==>>> epoch: 3, batch index: 400, train loss: 0.179216, acc: 0.932\n",
      "==>>> epoch: 3, batch index: 500, train loss: 0.259392, acc: 0.932\n",
      "==>>> epoch: 3, batch index: 600, train loss: 0.175523, acc: 0.934\n",
      "==>>> epoch: 3, batch index: 700, train loss: 0.201591, acc: 0.933\n",
      "==>>> epoch: 3, batch index: 800, train loss: 0.290059, acc: 0.933\n",
      "==>>> epoch: 3, batch index: 900, train loss: 0.207126, acc: 0.934\n",
      "==>>> epoch: 3, batch index: 1000, train loss: 0.248327, acc: 0.935\n",
      "==>>> epoch: 3, batch index: 1040, train loss: 0.199483, acc: 0.935\n",
      "==>>> epoch: 3, batch index: 100, test loss: 0.196586, acc: 0.969\n",
      "==>>> epoch: 3, batch index: 200, test loss: 0.185603, acc: 0.954\n",
      "==>>> epoch: 3, batch index: 300, test loss: 0.143958, acc: 0.957\n",
      "==>>> epoch: 3, batch index: 400, test loss: 0.112579, acc: 0.956\n",
      "==>>> epoch: 3, batch index: 500, test loss: 0.168157, acc: 0.959\n",
      "==>>> epoch: 3, batch index: 600, test loss: 0.200693, acc: 0.961\n",
      "==>>> epoch: 3, batch index: 700, test loss: 0.240842, acc: 0.956\n",
      "==>>> epoch: 3, batch index: 717, test loss: 0.270795, acc: 0.955\n",
      "==>>> epoch: 4, batch index: 100, train loss: 0.131160, acc: 0.962\n",
      "==>>> epoch: 4, batch index: 200, train loss: 0.171994, acc: 0.960\n",
      "==>>> epoch: 4, batch index: 300, train loss: 0.128372, acc: 0.958\n",
      "==>>> epoch: 4, batch index: 400, train loss: 0.168241, acc: 0.956\n",
      "==>>> epoch: 4, batch index: 500, train loss: 0.132980, acc: 0.956\n",
      "==>>> epoch: 4, batch index: 600, train loss: 0.136496, acc: 0.955\n",
      "==>>> epoch: 4, batch index: 700, train loss: 0.157842, acc: 0.955\n",
      "==>>> epoch: 4, batch index: 800, train loss: 0.209040, acc: 0.955\n",
      "==>>> epoch: 4, batch index: 900, train loss: 0.155973, acc: 0.954\n",
      "==>>> epoch: 4, batch index: 1000, train loss: 0.138252, acc: 0.953\n",
      "==>>> epoch: 4, batch index: 1040, train loss: 0.203231, acc: 0.953\n",
      "==>>> epoch: 4, batch index: 100, test loss: 0.093798, acc: 0.909\n",
      "==>>> epoch: 4, batch index: 200, test loss: 0.153755, acc: 0.949\n",
      "==>>> epoch: 4, batch index: 300, test loss: 0.246459, acc: 0.945\n",
      "==>>> epoch: 4, batch index: 400, test loss: 0.474890, acc: 0.920\n",
      "==>>> epoch: 4, batch index: 500, test loss: 13.186411, acc: 0.835\n",
      "==>>> epoch: 4, batch index: 600, test loss: 1.337080, acc: 0.733\n",
      "==>>> epoch: 4, batch index: 700, test loss: 1.176680, acc: 0.731\n",
      "==>>> epoch: 4, batch index: 717, test loss: 1.031417, acc: 0.731\n",
      "==>>> epoch: 5, batch index: 100, train loss: 0.083684, acc: 0.966\n",
      "==>>> epoch: 5, batch index: 200, train loss: 0.114771, acc: 0.962\n",
      "==>>> epoch: 5, batch index: 300, train loss: 0.083630, acc: 0.963\n",
      "==>>> epoch: 5, batch index: 400, train loss: 0.065977, acc: 0.964\n",
      "==>>> epoch: 5, batch index: 500, train loss: 0.181481, acc: 0.962\n",
      "==>>> epoch: 5, batch index: 600, train loss: 0.168890, acc: 0.962\n",
      "==>>> epoch: 5, batch index: 700, train loss: 0.223268, acc: 0.961\n",
      "==>>> epoch: 5, batch index: 800, train loss: 0.096574, acc: 0.960\n",
      "==>>> epoch: 5, batch index: 900, train loss: 0.108359, acc: 0.960\n",
      "==>>> epoch: 5, batch index: 1000, train loss: 0.120346, acc: 0.961\n",
      "==>>> epoch: 5, batch index: 1040, train loss: 0.231891, acc: 0.961\n",
      "==>>> epoch: 5, batch index: 100, test loss: 0.214729, acc: 0.969\n",
      "==>>> epoch: 5, batch index: 200, test loss: 0.214303, acc: 0.953\n",
      "==>>> epoch: 5, batch index: 300, test loss: 0.137072, acc: 0.956\n",
      "==>>> epoch: 5, batch index: 400, test loss: 0.139142, acc: 0.955\n",
      "==>>> epoch: 5, batch index: 500, test loss: 0.176494, acc: 0.954\n",
      "==>>> epoch: 5, batch index: 600, test loss: 0.109302, acc: 0.958\n",
      "==>>> epoch: 5, batch index: 700, test loss: 0.106057, acc: 0.960\n",
      "==>>> epoch: 5, batch index: 717, test loss: 0.122576, acc: 0.960\n",
      "==>>> epoch: 6, batch index: 100, train loss: 0.139819, acc: 0.972\n",
      "==>>> epoch: 6, batch index: 200, train loss: 0.107445, acc: 0.976\n",
      "==>>> epoch: 6, batch index: 300, train loss: 0.081617, acc: 0.972\n",
      "==>>> epoch: 6, batch index: 400, train loss: 0.110027, acc: 0.970\n",
      "==>>> epoch: 6, batch index: 500, train loss: 0.145667, acc: 0.970\n",
      "==>>> epoch: 6, batch index: 600, train loss: 0.119754, acc: 0.969\n",
      "==>>> epoch: 6, batch index: 700, train loss: 0.063463, acc: 0.968\n",
      "==>>> epoch: 6, batch index: 800, train loss: 0.076073, acc: 0.968\n",
      "==>>> epoch: 6, batch index: 900, train loss: 0.156883, acc: 0.968\n",
      "==>>> epoch: 6, batch index: 1000, train loss: 0.206298, acc: 0.967\n",
      "==>>> epoch: 6, batch index: 1040, train loss: 0.078376, acc: 0.967\n",
      "==>>> epoch: 6, batch index: 100, test loss: 0.174124, acc: 0.978\n",
      "==>>> epoch: 6, batch index: 200, test loss: 0.129214, acc: 0.972\n",
      "==>>> epoch: 6, batch index: 300, test loss: 0.078516, acc: 0.974\n",
      "==>>> epoch: 6, batch index: 400, test loss: 0.091413, acc: 0.973\n",
      "==>>> epoch: 6, batch index: 500, test loss: 0.153480, acc: 0.971\n",
      "==>>> epoch: 6, batch index: 600, test loss: 0.075861, acc: 0.973\n",
      "==>>> epoch: 6, batch index: 700, test loss: 0.178055, acc: 0.970\n",
      "==>>> epoch: 6, batch index: 717, test loss: 0.162122, acc: 0.970\n",
      "==>>> epoch: 7, batch index: 100, train loss: 0.053080, acc: 0.980\n",
      "==>>> epoch: 7, batch index: 200, train loss: 0.096655, acc: 0.978\n",
      "==>>> epoch: 7, batch index: 300, train loss: 0.077996, acc: 0.976\n",
      "==>>> epoch: 7, batch index: 400, train loss: 0.121690, acc: 0.977\n",
      "==>>> epoch: 7, batch index: 500, train loss: 0.110295, acc: 0.977\n",
      "==>>> epoch: 7, batch index: 600, train loss: 0.103033, acc: 0.976\n",
      "==>>> epoch: 7, batch index: 700, train loss: 0.059904, acc: 0.975\n",
      "==>>> epoch: 7, batch index: 800, train loss: 0.056062, acc: 0.974\n",
      "==>>> epoch: 7, batch index: 900, train loss: 0.058170, acc: 0.974\n",
      "==>>> epoch: 7, batch index: 1000, train loss: 0.117212, acc: 0.974\n",
      "==>>> epoch: 7, batch index: 1040, train loss: 0.092087, acc: 0.973\n",
      "==>>> epoch: 7, batch index: 100, test loss: 0.115893, acc: 0.983\n",
      "==>>> epoch: 7, batch index: 200, test loss: 0.172764, acc: 0.978\n",
      "==>>> epoch: 7, batch index: 300, test loss: 0.204970, acc: 0.965\n",
      "==>>> epoch: 7, batch index: 400, test loss: 0.054589, acc: 0.967\n",
      "==>>> epoch: 7, batch index: 500, test loss: 0.167390, acc: 0.969\n",
      "==>>> epoch: 7, batch index: 600, test loss: 0.115323, acc: 0.970\n",
      "==>>> epoch: 7, batch index: 700, test loss: 0.094421, acc: 0.971\n",
      "==>>> epoch: 7, batch index: 717, test loss: 0.091080, acc: 0.971\n",
      "==>>> epoch: 8, batch index: 100, train loss: 0.039895, acc: 0.983\n",
      "==>>> epoch: 8, batch index: 200, train loss: 0.044497, acc: 0.983\n",
      "==>>> epoch: 8, batch index: 300, train loss: 0.089010, acc: 0.984\n",
      "==>>> epoch: 8, batch index: 400, train loss: 0.091571, acc: 0.984\n",
      "==>>> epoch: 8, batch index: 500, train loss: 0.099000, acc: 0.984\n",
      "==>>> epoch: 8, batch index: 600, train loss: 0.066500, acc: 0.984\n",
      "==>>> epoch: 8, batch index: 700, train loss: 0.119760, acc: 0.983\n",
      "==>>> epoch: 8, batch index: 800, train loss: 0.112938, acc: 0.982\n",
      "==>>> epoch: 8, batch index: 900, train loss: 0.103268, acc: 0.981\n",
      "==>>> epoch: 8, batch index: 1000, train loss: 0.065765, acc: 0.981\n",
      "==>>> epoch: 8, batch index: 1040, train loss: 0.047612, acc: 0.981\n",
      "==>>> epoch: 8, batch index: 100, test loss: 0.109365, acc: 0.984\n",
      "==>>> epoch: 8, batch index: 200, test loss: 0.092532, acc: 0.984\n",
      "==>>> epoch: 8, batch index: 300, test loss: 0.077373, acc: 0.983\n",
      "==>>> epoch: 8, batch index: 400, test loss: 0.068661, acc: 0.980\n",
      "==>>> epoch: 8, batch index: 500, test loss: 0.155630, acc: 0.977\n",
      "==>>> epoch: 8, batch index: 600, test loss: 0.050027, acc: 0.976\n",
      "==>>> epoch: 8, batch index: 700, test loss: 0.116697, acc: 0.975\n",
      "==>>> epoch: 8, batch index: 717, test loss: 0.108949, acc: 0.975\n",
      "==>>> epoch: 9, batch index: 100, train loss: 0.030588, acc: 0.985\n",
      "==>>> epoch: 9, batch index: 200, train loss: 0.068385, acc: 0.986\n",
      "==>>> epoch: 9, batch index: 300, train loss: 0.065235, acc: 0.986\n",
      "==>>> epoch: 9, batch index: 400, train loss: 0.071292, acc: 0.985\n",
      "==>>> epoch: 9, batch index: 500, train loss: 0.079865, acc: 0.985\n",
      "==>>> epoch: 9, batch index: 600, train loss: 0.095023, acc: 0.984\n",
      "==>>> epoch: 9, batch index: 700, train loss: 0.028081, acc: 0.985\n",
      "==>>> epoch: 9, batch index: 800, train loss: 0.045531, acc: 0.984\n",
      "==>>> epoch: 9, batch index: 900, train loss: 0.158951, acc: 0.983\n",
      "==>>> epoch: 9, batch index: 1000, train loss: 0.064999, acc: 0.982\n",
      "==>>> epoch: 9, batch index: 1040, train loss: 0.067218, acc: 0.982\n",
      "==>>> epoch: 9, batch index: 100, test loss: 0.207075, acc: 0.981\n",
      "==>>> epoch: 9, batch index: 200, test loss: 0.134325, acc: 0.971\n",
      "==>>> epoch: 9, batch index: 300, test loss: 0.071005, acc: 0.973\n",
      "==>>> epoch: 9, batch index: 400, test loss: 0.041436, acc: 0.974\n",
      "==>>> epoch: 9, batch index: 500, test loss: 0.138720, acc: 0.975\n",
      "==>>> epoch: 9, batch index: 600, test loss: 0.060141, acc: 0.976\n",
      "==>>> epoch: 9, batch index: 700, test loss: 0.092195, acc: 0.975\n",
      "==>>> epoch: 9, batch index: 717, test loss: 0.083060, acc: 0.975\n",
      "==>>> epoch: 10, batch index: 100, train loss: 0.035684, acc: 0.979\n",
      "==>>> epoch: 10, batch index: 200, train loss: 0.058583, acc: 0.980\n",
      "==>>> epoch: 10, batch index: 300, train loss: 0.045286, acc: 0.983\n",
      "==>>> epoch: 10, batch index: 400, train loss: 0.034709, acc: 0.985\n",
      "==>>> epoch: 10, batch index: 500, train loss: 0.049670, acc: 0.986\n",
      "==>>> epoch: 10, batch index: 600, train loss: 0.027514, acc: 0.986\n",
      "==>>> epoch: 10, batch index: 700, train loss: 0.088686, acc: 0.986\n",
      "==>>> epoch: 10, batch index: 800, train loss: 0.072610, acc: 0.986\n",
      "==>>> epoch: 10, batch index: 900, train loss: 0.053366, acc: 0.984\n",
      "==>>> epoch: 10, batch index: 1000, train loss: 0.059877, acc: 0.984\n",
      "==>>> epoch: 10, batch index: 1040, train loss: 0.058848, acc: 0.984\n",
      "==>>> epoch: 10, batch index: 100, test loss: 0.113966, acc: 0.994\n",
      "==>>> epoch: 10, batch index: 200, test loss: 0.103913, acc: 0.990\n",
      "==>>> epoch: 10, batch index: 300, test loss: 0.090817, acc: 0.986\n",
      "==>>> epoch: 10, batch index: 400, test loss: 0.057922, acc: 0.972\n",
      "==>>> epoch: 10, batch index: 500, test loss: 0.160569, acc: 0.973\n",
      "==>>> epoch: 10, batch index: 600, test loss: 0.072445, acc: 0.974\n",
      "==>>> epoch: 10, batch index: 700, test loss: 0.284329, acc: 0.969\n",
      "==>>> epoch: 10, batch index: 717, test loss: 0.195936, acc: 0.968\n",
      "==>>> epoch: 11, batch index: 100, train loss: 0.040713, acc: 0.984\n",
      "==>>> epoch: 11, batch index: 200, train loss: 0.038130, acc: 0.987\n",
      "==>>> epoch: 11, batch index: 300, train loss: 0.037643, acc: 0.988\n",
      "==>>> epoch: 11, batch index: 400, train loss: 0.033302, acc: 0.988\n",
      "==>>> epoch: 11, batch index: 500, train loss: 0.038079, acc: 0.989\n",
      "==>>> epoch: 11, batch index: 600, train loss: 0.042777, acc: 0.988\n",
      "==>>> epoch: 11, batch index: 700, train loss: 0.043224, acc: 0.987\n",
      "==>>> epoch: 11, batch index: 800, train loss: 0.064885, acc: 0.987\n",
      "==>>> epoch: 11, batch index: 900, train loss: 0.042652, acc: 0.987\n",
      "==>>> epoch: 11, batch index: 1000, train loss: 0.064772, acc: 0.987\n",
      "==>>> epoch: 11, batch index: 1040, train loss: 0.041555, acc: 0.986\n",
      "==>>> epoch: 11, batch index: 100, test loss: 0.152303, acc: 0.991\n",
      "==>>> epoch: 11, batch index: 200, test loss: 0.127166, acc: 0.983\n",
      "==>>> epoch: 11, batch index: 300, test loss: 0.082604, acc: 0.982\n",
      "==>>> epoch: 11, batch index: 400, test loss: 0.063586, acc: 0.982\n",
      "==>>> epoch: 11, batch index: 500, test loss: 0.171976, acc: 0.981\n",
      "==>>> epoch: 11, batch index: 600, test loss: 0.028647, acc: 0.982\n",
      "==>>> epoch: 11, batch index: 700, test loss: 0.125718, acc: 0.980\n",
      "==>>> epoch: 11, batch index: 717, test loss: 0.125133, acc: 0.979\n",
      "==>>> epoch: 12, batch index: 100, train loss: 0.060948, acc: 0.989\n",
      "==>>> epoch: 12, batch index: 200, train loss: 0.028572, acc: 0.989\n",
      "==>>> epoch: 12, batch index: 300, train loss: 0.041418, acc: 0.991\n",
      "==>>> epoch: 12, batch index: 400, train loss: 0.030260, acc: 0.991\n",
      "==>>> epoch: 12, batch index: 500, train loss: 0.047978, acc: 0.991\n",
      "==>>> epoch: 12, batch index: 600, train loss: 0.022151, acc: 0.991\n",
      "==>>> epoch: 12, batch index: 700, train loss: 0.039681, acc: 0.991\n",
      "==>>> epoch: 12, batch index: 800, train loss: 0.030308, acc: 0.990\n",
      "==>>> epoch: 12, batch index: 900, train loss: 0.036299, acc: 0.990\n",
      "==>>> epoch: 12, batch index: 1000, train loss: 0.039802, acc: 0.990\n",
      "==>>> epoch: 12, batch index: 1040, train loss: 0.029984, acc: 0.989\n",
      "==>>> epoch: 12, batch index: 100, test loss: 0.153185, acc: 0.991\n",
      "==>>> epoch: 12, batch index: 200, test loss: 0.118907, acc: 0.988\n",
      "==>>> epoch: 12, batch index: 300, test loss: 0.102835, acc: 0.984\n",
      "==>>> epoch: 12, batch index: 400, test loss: 0.097907, acc: 0.981\n",
      "==>>> epoch: 12, batch index: 500, test loss: 0.131446, acc: 0.979\n",
      "==>>> epoch: 12, batch index: 600, test loss: 0.025831, acc: 0.981\n",
      "==>>> epoch: 12, batch index: 700, test loss: 0.116665, acc: 0.980\n",
      "==>>> epoch: 12, batch index: 717, test loss: 0.115885, acc: 0.979\n",
      "==>>> epoch: 13, batch index: 100, train loss: 0.017661, acc: 0.994\n",
      "==>>> epoch: 13, batch index: 200, train loss: 0.018103, acc: 0.992\n",
      "==>>> epoch: 13, batch index: 300, train loss: 0.019570, acc: 0.993\n",
      "==>>> epoch: 13, batch index: 400, train loss: 0.035385, acc: 0.992\n",
      "==>>> epoch: 13, batch index: 500, train loss: 0.028582, acc: 0.992\n",
      "==>>> epoch: 13, batch index: 600, train loss: 0.042142, acc: 0.992\n",
      "==>>> epoch: 13, batch index: 700, train loss: 0.047119, acc: 0.992\n",
      "==>>> epoch: 13, batch index: 800, train loss: 0.025686, acc: 0.991\n",
      "==>>> epoch: 13, batch index: 900, train loss: 0.102747, acc: 0.991\n",
      "==>>> epoch: 13, batch index: 1000, train loss: 0.028077, acc: 0.990\n",
      "==>>> epoch: 13, batch index: 1040, train loss: 0.035753, acc: 0.990\n",
      "==>>> epoch: 13, batch index: 100, test loss: 0.115051, acc: 0.991\n",
      "==>>> epoch: 13, batch index: 200, test loss: 0.089197, acc: 0.987\n",
      "==>>> epoch: 13, batch index: 300, test loss: 0.074244, acc: 0.986\n",
      "==>>> epoch: 13, batch index: 400, test loss: 0.044012, acc: 0.984\n",
      "==>>> epoch: 13, batch index: 500, test loss: 0.144694, acc: 0.984\n",
      "==>>> epoch: 13, batch index: 600, test loss: 0.043201, acc: 0.986\n",
      "==>>> epoch: 13, batch index: 700, test loss: 0.166619, acc: 0.982\n",
      "==>>> epoch: 13, batch index: 717, test loss: 0.142910, acc: 0.982\n",
      "==>>> epoch: 14, batch index: 100, train loss: 0.014446, acc: 0.994\n",
      "==>>> epoch: 14, batch index: 200, train loss: 0.021967, acc: 0.993\n",
      "==>>> epoch: 14, batch index: 300, train loss: 0.010584, acc: 0.993\n",
      "==>>> epoch: 14, batch index: 400, train loss: 0.045734, acc: 0.992\n",
      "==>>> epoch: 14, batch index: 500, train loss: 0.014184, acc: 0.992\n",
      "==>>> epoch: 14, batch index: 600, train loss: 0.030133, acc: 0.992\n",
      "==>>> epoch: 14, batch index: 700, train loss: 0.065459, acc: 0.991\n",
      "==>>> epoch: 14, batch index: 800, train loss: 0.019386, acc: 0.991\n",
      "==>>> epoch: 14, batch index: 900, train loss: 0.047341, acc: 0.990\n",
      "==>>> epoch: 14, batch index: 1000, train loss: 0.061018, acc: 0.990\n",
      "==>>> epoch: 14, batch index: 1040, train loss: 0.036920, acc: 0.990\n",
      "==>>> epoch: 14, batch index: 100, test loss: 0.156891, acc: 0.991\n",
      "==>>> epoch: 14, batch index: 200, test loss: 0.100249, acc: 0.985\n",
      "==>>> epoch: 14, batch index: 300, test loss: 0.072714, acc: 0.985\n",
      "==>>> epoch: 14, batch index: 400, test loss: 0.064181, acc: 0.984\n",
      "==>>> epoch: 14, batch index: 500, test loss: 0.154094, acc: 0.982\n",
      "==>>> epoch: 14, batch index: 600, test loss: 0.045238, acc: 0.983\n",
      "==>>> epoch: 14, batch index: 700, test loss: 0.121331, acc: 0.980\n",
      "==>>> epoch: 14, batch index: 717, test loss: 0.116210, acc: 0.980\n",
      "==>>> epoch: 15, batch index: 100, train loss: 0.029428, acc: 0.995\n",
      "==>>> epoch: 15, batch index: 200, train loss: 0.018472, acc: 0.995\n",
      "==>>> epoch: 15, batch index: 300, train loss: 0.010633, acc: 0.995\n",
      "==>>> epoch: 15, batch index: 400, train loss: 0.021572, acc: 0.994\n",
      "==>>> epoch: 15, batch index: 500, train loss: 0.019471, acc: 0.993\n",
      "==>>> epoch: 15, batch index: 600, train loss: 0.035555, acc: 0.993\n",
      "==>>> epoch: 15, batch index: 700, train loss: 0.044990, acc: 0.992\n",
      "==>>> epoch: 15, batch index: 800, train loss: 0.045904, acc: 0.991\n",
      "==>>> epoch: 15, batch index: 900, train loss: 0.059997, acc: 0.991\n",
      "==>>> epoch: 15, batch index: 1000, train loss: 0.011679, acc: 0.991\n",
      "==>>> epoch: 15, batch index: 1040, train loss: 0.026159, acc: 0.991\n",
      "==>>> epoch: 15, batch index: 100, test loss: 0.133326, acc: 0.994\n",
      "==>>> epoch: 15, batch index: 200, test loss: 0.126794, acc: 0.988\n",
      "==>>> epoch: 15, batch index: 300, test loss: 0.097906, acc: 0.985\n",
      "==>>> epoch: 15, batch index: 400, test loss: 0.080602, acc: 0.984\n",
      "==>>> epoch: 15, batch index: 500, test loss: 0.156792, acc: 0.983\n",
      "==>>> epoch: 15, batch index: 600, test loss: 0.034508, acc: 0.984\n",
      "==>>> epoch: 15, batch index: 700, test loss: 0.090807, acc: 0.983\n",
      "==>>> epoch: 15, batch index: 717, test loss: 0.086132, acc: 0.983\n",
      "==>>> epoch: 16, batch index: 100, train loss: 0.014863, acc: 0.997\n",
      "==>>> epoch: 16, batch index: 200, train loss: 0.015008, acc: 0.997\n",
      "==>>> epoch: 16, batch index: 300, train loss: 0.024195, acc: 0.997\n",
      "==>>> epoch: 16, batch index: 400, train loss: 0.017458, acc: 0.996\n",
      "==>>> epoch: 16, batch index: 500, train loss: 0.013296, acc: 0.995\n",
      "==>>> epoch: 16, batch index: 600, train loss: 0.030216, acc: 0.994\n",
      "==>>> epoch: 16, batch index: 700, train loss: 0.035991, acc: 0.993\n",
      "==>>> epoch: 16, batch index: 800, train loss: 0.010781, acc: 0.994\n",
      "==>>> epoch: 16, batch index: 900, train loss: 0.033125, acc: 0.993\n",
      "==>>> epoch: 16, batch index: 1000, train loss: 0.010925, acc: 0.993\n",
      "==>>> epoch: 16, batch index: 1040, train loss: 0.021431, acc: 0.993\n",
      "==>>> epoch: 16, batch index: 100, test loss: 0.159152, acc: 0.991\n",
      "==>>> epoch: 16, batch index: 200, test loss: 0.137659, acc: 0.985\n",
      "==>>> epoch: 16, batch index: 300, test loss: 0.088140, acc: 0.985\n",
      "==>>> epoch: 16, batch index: 400, test loss: 0.077055, acc: 0.983\n",
      "==>>> epoch: 16, batch index: 500, test loss: 0.148604, acc: 0.982\n",
      "==>>> epoch: 16, batch index: 600, test loss: 0.015196, acc: 0.984\n",
      "==>>> epoch: 16, batch index: 700, test loss: 0.085566, acc: 0.983\n",
      "==>>> epoch: 16, batch index: 717, test loss: 0.075693, acc: 0.983\n",
      "==>>> epoch: 17, batch index: 100, train loss: 0.019444, acc: 0.995\n",
      "==>>> epoch: 17, batch index: 200, train loss: 0.020761, acc: 0.995\n",
      "==>>> epoch: 17, batch index: 300, train loss: 0.024156, acc: 0.994\n",
      "==>>> epoch: 17, batch index: 400, train loss: 0.021371, acc: 0.994\n",
      "==>>> epoch: 17, batch index: 500, train loss: 0.022831, acc: 0.995\n",
      "==>>> epoch: 17, batch index: 600, train loss: 0.020613, acc: 0.995\n",
      "==>>> epoch: 17, batch index: 700, train loss: 0.013147, acc: 0.994\n",
      "==>>> epoch: 17, batch index: 800, train loss: 0.029844, acc: 0.994\n",
      "==>>> epoch: 17, batch index: 900, train loss: 0.053770, acc: 0.993\n",
      "==>>> epoch: 17, batch index: 1000, train loss: 0.041861, acc: 0.993\n",
      "==>>> epoch: 17, batch index: 1040, train loss: 0.012096, acc: 0.993\n",
      "==>>> epoch: 17, batch index: 100, test loss: 0.135886, acc: 0.996\n",
      "==>>> epoch: 17, batch index: 200, test loss: 0.096876, acc: 0.989\n",
      "==>>> epoch: 17, batch index: 300, test loss: 0.101072, acc: 0.987\n",
      "==>>> epoch: 17, batch index: 400, test loss: 0.047612, acc: 0.986\n",
      "==>>> epoch: 17, batch index: 500, test loss: 0.191235, acc: 0.985\n",
      "==>>> epoch: 17, batch index: 600, test loss: 0.020964, acc: 0.986\n",
      "==>>> epoch: 17, batch index: 700, test loss: 0.102199, acc: 0.984\n",
      "==>>> epoch: 17, batch index: 717, test loss: 0.087645, acc: 0.984\n",
      "==>>> epoch: 18, batch index: 100, train loss: 0.005685, acc: 0.998\n",
      "==>>> epoch: 18, batch index: 200, train loss: 0.005796, acc: 0.998\n",
      "==>>> epoch: 18, batch index: 300, train loss: 0.035199, acc: 0.996\n",
      "==>>> epoch: 18, batch index: 400, train loss: 0.022954, acc: 0.996\n",
      "==>>> epoch: 18, batch index: 500, train loss: 0.012048, acc: 0.996\n",
      "==>>> epoch: 18, batch index: 600, train loss: 0.020018, acc: 0.995\n",
      "==>>> epoch: 18, batch index: 700, train loss: 0.018692, acc: 0.995\n",
      "==>>> epoch: 18, batch index: 800, train loss: 0.015445, acc: 0.995\n",
      "==>>> epoch: 18, batch index: 900, train loss: 0.037125, acc: 0.995\n",
      "==>>> epoch: 18, batch index: 1000, train loss: 0.039130, acc: 0.994\n",
      "==>>> epoch: 18, batch index: 1040, train loss: 0.052653, acc: 0.994\n",
      "==>>> epoch: 18, batch index: 100, test loss: 0.161192, acc: 0.989\n",
      "==>>> epoch: 18, batch index: 200, test loss: 0.144134, acc: 0.983\n",
      "==>>> epoch: 18, batch index: 300, test loss: 0.092263, acc: 0.982\n",
      "==>>> epoch: 18, batch index: 400, test loss: 0.036342, acc: 0.984\n",
      "==>>> epoch: 18, batch index: 500, test loss: 0.183345, acc: 0.984\n",
      "==>>> epoch: 18, batch index: 600, test loss: 0.054750, acc: 0.984\n",
      "==>>> epoch: 18, batch index: 700, test loss: 0.054639, acc: 0.984\n",
      "==>>> epoch: 18, batch index: 717, test loss: 0.065654, acc: 0.984\n",
      "==>>> epoch: 19, batch index: 100, train loss: 0.026050, acc: 0.988\n",
      "==>>> epoch: 19, batch index: 200, train loss: 0.011933, acc: 0.989\n",
      "==>>> epoch: 19, batch index: 300, train loss: 0.018383, acc: 0.989\n",
      "==>>> epoch: 19, batch index: 400, train loss: 0.033260, acc: 0.990\n",
      "==>>> epoch: 19, batch index: 500, train loss: 0.025755, acc: 0.991\n",
      "==>>> epoch: 19, batch index: 600, train loss: 0.024676, acc: 0.991\n",
      "==>>> epoch: 19, batch index: 700, train loss: 0.016848, acc: 0.991\n",
      "==>>> epoch: 19, batch index: 800, train loss: 0.013863, acc: 0.992\n",
      "==>>> epoch: 19, batch index: 900, train loss: 0.026646, acc: 0.993\n",
      "==>>> epoch: 19, batch index: 1000, train loss: 0.053896, acc: 0.992\n",
      "==>>> epoch: 19, batch index: 1040, train loss: 0.023777, acc: 0.992\n",
      "==>>> epoch: 19, batch index: 100, test loss: 0.123050, acc: 0.995\n",
      "==>>> epoch: 19, batch index: 200, test loss: 0.119806, acc: 0.990\n",
      "==>>> epoch: 19, batch index: 300, test loss: 0.078847, acc: 0.989\n",
      "==>>> epoch: 19, batch index: 400, test loss: 0.060438, acc: 0.986\n",
      "==>>> epoch: 19, batch index: 500, test loss: 0.161681, acc: 0.985\n",
      "==>>> epoch: 19, batch index: 600, test loss: 0.019497, acc: 0.987\n",
      "==>>> epoch: 19, batch index: 700, test loss: 0.087467, acc: 0.985\n",
      "==>>> epoch: 19, batch index: 717, test loss: 0.066118, acc: 0.985\n"
     ]
    }
   ],
   "source": [
    "model = MLP()\n",
    "\n",
    "optimizer = optim.SGD(model.parameters(), lr=0.01)\n",
    "\n",
    "criterion = nn.CrossEntropyLoss()\n",
    "\n",
    "for epoch in range(20):\n",
    "    correct_cnt, ave_loss = 0, 0\n",
    "    total_cnt = 0\n",
    "    for batch_idx, (x, target) in enumerate(train_loader):\n",
    "        optimizer.zero_grad()\n",
    "        out = model(x)\n",
    "        loss = criterion(out, target)\n",
    "        _, pred_label = torch.max(out.data, 1)\n",
    "        total_cnt += x.shape[0]\n",
    "        correct_cnt+= (pred_label == target).sum().item()\n",
    "        ave_loss = ave_loss * 0.9 + loss.item() * 0.1\n",
    "        loss.backward()\n",
    "        optimizer.step()\n",
    "        if (batch_idx+1) % 100 == 0 or (batch_idx+1) == len(train_loader):\n",
    "            print('==>>> epoch: {}, batch index: {}, train loss: {:.6f}, acc: {:.3f}'.format(\n",
    "                epoch, batch_idx+1, ave_loss, correct_cnt*1.0/total_cnt))\n",
    "    # testing\n",
    "    correct_cnt, ave_loss = 0, 0\n",
    "    total_cnt = 0\n",
    "    for batch_idx, (x, target) in enumerate(test_loader):\n",
    "        out = model(x)\n",
    "        loss = criterion(out, target)\n",
    "        _, pred_label = torch.max(out.data, 1)\n",
    "        total_cnt += x.shape[0]\n",
    "#         print(target.data)\n",
    "        correct_cnt += (pred_label == target).sum().item()\n",
    "        # smooth average\n",
    "        ave_loss = ave_loss * 0.9 + loss.item() * 0.1\n",
    "        \n",
    "        if(batch_idx+1) % 100 == 0 or (batch_idx+1) == len(test_loader):\n",
    "            print('==>>> epoch: {}, batch index: {}, test loss: {:.6f}, acc: {:.3f}'.format(\n",
    "                epoch, batch_idx+1, ave_loss, correct_cnt * 1.0 / total_cnt))"
   ]
  },
  {
   "cell_type": "code",
   "execution_count": null,
   "metadata": {},
   "outputs": [],
   "source": []
  }
 ],
 "metadata": {
  "kernelspec": {
   "display_name": "Python 3",
   "language": "python",
   "name": "python3"
  },
  "language_info": {
   "codemirror_mode": {
    "name": "ipython",
    "version": 2
   },
   "file_extension": ".py",
   "mimetype": "text/x-python",
   "name": "python",
   "nbconvert_exporter": "python",
   "pygments_lexer": "ipython2",
   "version": "2.7.12"
  }
 },
 "nbformat": 4,
 "nbformat_minor": 2
}
